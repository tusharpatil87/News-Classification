{
 "cells": [
  {
   "cell_type": "markdown",
   "id": "c7292341",
   "metadata": {},
   "source": [
    "# Goal of the Project: Classification of News with Machine Learning Model: "
   ]
  },
  {
   "cell_type": "markdown",
   "id": "80cb15f1",
   "metadata": {},
   "source": [
    "# In the era of internet and social media we have surrounded by n number of news. We are always searching for our favorite categories of News. Most of the News Websites, News editors are doing manual categorization of News into the different classes, Such as Sports, Entertainment, Business, Politics, Tech world..etc.. This takes long time and having threats of incorrect categorization. So, here is Machine Learning Algorithms which can help us to do this process automated. We will see how the Machine Learning would help us to News Categorization."
   ]
  },
  {
   "cell_type": "code",
   "execution_count": 211,
   "id": "da9b5660",
   "metadata": {},
   "outputs": [],
   "source": [
    "import pandas as pd\n",
    "import numpy as np\n",
    "from sklearn.metrics import accuracy_score\n",
    "from sklearn.feature_extraction.text import CountVectorizer\n",
    "from sklearn.model_selection import train_test_split\n",
    "from sklearn.naive_bayes import MultinomialNB\n",
    "from sklearn.naive_bayes import BernoulliNB\n",
    "from sklearn.naive_bayes import GaussianNB\n",
    "from sklearn.ensemble import RandomForestClassifier\n",
    "from sklearn.svm import SVC\n",
    "from sklearn.tree import DecisionTreeClassifier\n",
    "import xgboost as xgb\n",
    "from sklearn.ensemble import AdaBoostClassifier"
   ]
  },
  {
   "cell_type": "code",
   "execution_count": 212,
   "id": "51a27c95",
   "metadata": {},
   "outputs": [],
   "source": [
    "df = pd.read_csv('NewsDataFile.csv')"
   ]
  },
  {
   "cell_type": "code",
   "execution_count": 213,
   "id": "acd037e9",
   "metadata": {},
   "outputs": [
    {
     "data": {
      "text/html": [
       "<div>\n",
       "<style scoped>\n",
       "    .dataframe tbody tr th:only-of-type {\n",
       "        vertical-align: middle;\n",
       "    }\n",
       "\n",
       "    .dataframe tbody tr th {\n",
       "        vertical-align: top;\n",
       "    }\n",
       "\n",
       "    .dataframe thead th {\n",
       "        text-align: right;\n",
       "    }\n",
       "</style>\n",
       "<table border=\"1\" class=\"dataframe\">\n",
       "  <thead>\n",
       "    <tr style=\"text-align: right;\">\n",
       "      <th></th>\n",
       "      <th>Unnamed: 0</th>\n",
       "      <th>category</th>\n",
       "      <th>filename</th>\n",
       "      <th>title</th>\n",
       "      <th>content</th>\n",
       "    </tr>\n",
       "  </thead>\n",
       "  <tbody>\n",
       "    <tr>\n",
       "      <th>0</th>\n",
       "      <td>0</td>\n",
       "      <td>business</td>\n",
       "      <td>001.txt</td>\n",
       "      <td>Ad sales boost Time Warner profit</td>\n",
       "      <td>Quarterly profits at US media giant TimeWarne...</td>\n",
       "    </tr>\n",
       "    <tr>\n",
       "      <th>1</th>\n",
       "      <td>1</td>\n",
       "      <td>business</td>\n",
       "      <td>002.txt</td>\n",
       "      <td>Dollar gains on Greenspan speech</td>\n",
       "      <td>The dollar has hit its highest level against ...</td>\n",
       "    </tr>\n",
       "    <tr>\n",
       "      <th>2</th>\n",
       "      <td>2</td>\n",
       "      <td>business</td>\n",
       "      <td>003.txt</td>\n",
       "      <td>Yukos unit buyer faces loan claim</td>\n",
       "      <td>The owners of embattled Russian oil giant Yuk...</td>\n",
       "    </tr>\n",
       "    <tr>\n",
       "      <th>3</th>\n",
       "      <td>3</td>\n",
       "      <td>business</td>\n",
       "      <td>004.txt</td>\n",
       "      <td>High fuel prices hit BA's profits</td>\n",
       "      <td>British Airways has blamed high fuel prices f...</td>\n",
       "    </tr>\n",
       "    <tr>\n",
       "      <th>4</th>\n",
       "      <td>4</td>\n",
       "      <td>business</td>\n",
       "      <td>005.txt</td>\n",
       "      <td>Pernod takeover talk lifts Domecq</td>\n",
       "      <td>Shares in UK drinks and food firm Allied Dome...</td>\n",
       "    </tr>\n",
       "  </tbody>\n",
       "</table>\n",
       "</div>"
      ],
      "text/plain": [
       "   Unnamed: 0  category filename                              title  \\\n",
       "0           0  business  001.txt  Ad sales boost Time Warner profit   \n",
       "1           1  business  002.txt   Dollar gains on Greenspan speech   \n",
       "2           2  business  003.txt  Yukos unit buyer faces loan claim   \n",
       "3           3  business  004.txt  High fuel prices hit BA's profits   \n",
       "4           4  business  005.txt  Pernod takeover talk lifts Domecq   \n",
       "\n",
       "                                             content  \n",
       "0   Quarterly profits at US media giant TimeWarne...  \n",
       "1   The dollar has hit its highest level against ...  \n",
       "2   The owners of embattled Russian oil giant Yuk...  \n",
       "3   British Airways has blamed high fuel prices f...  \n",
       "4   Shares in UK drinks and food firm Allied Dome...  "
      ]
     },
     "execution_count": 213,
     "metadata": {},
     "output_type": "execute_result"
    }
   ],
   "source": [
    "df.head()"
   ]
  },
  {
   "cell_type": "code",
   "execution_count": 214,
   "id": "995a3e82",
   "metadata": {},
   "outputs": [
    {
     "data": {
      "text/plain": [
       "Unnamed: 0    0\n",
       "category      0\n",
       "filename      0\n",
       "title         0\n",
       "content       0\n",
       "dtype: int64"
      ]
     },
     "execution_count": 214,
     "metadata": {},
     "output_type": "execute_result"
    }
   ],
   "source": [
    "df.isnull().sum()"
   ]
  },
  {
   "cell_type": "code",
   "execution_count": 215,
   "id": "b640bcd8",
   "metadata": {},
   "outputs": [
    {
     "data": {
      "text/plain": [
       "(2225, 5)"
      ]
     },
     "execution_count": 215,
     "metadata": {},
     "output_type": "execute_result"
    }
   ],
   "source": [
    "df.shape"
   ]
  },
  {
   "cell_type": "code",
   "execution_count": 216,
   "id": "6c5c8c35",
   "metadata": {},
   "outputs": [
    {
     "data": {
      "text/plain": [
       "Index(['Unnamed: 0', 'category', 'filename', 'title', 'content'], dtype='object')"
      ]
     },
     "execution_count": 216,
     "metadata": {},
     "output_type": "execute_result"
    }
   ],
   "source": [
    "df.columns"
   ]
  },
  {
   "cell_type": "code",
   "execution_count": 217,
   "id": "269facc6",
   "metadata": {},
   "outputs": [
    {
     "name": "stdout",
     "output_type": "stream",
     "text": [
      "<class 'pandas.core.frame.DataFrame'>\n",
      "RangeIndex: 2225 entries, 0 to 2224\n",
      "Data columns (total 5 columns):\n",
      " #   Column      Non-Null Count  Dtype \n",
      "---  ------      --------------  ----- \n",
      " 0   Unnamed: 0  2225 non-null   int64 \n",
      " 1   category    2225 non-null   object\n",
      " 2   filename    2225 non-null   object\n",
      " 3   title       2225 non-null   object\n",
      " 4   content     2225 non-null   object\n",
      "dtypes: int64(1), object(4)\n",
      "memory usage: 87.0+ KB\n"
     ]
    }
   ],
   "source": [
    "df.info()"
   ]
  },
  {
   "cell_type": "code",
   "execution_count": 218,
   "id": "79a8ecbd",
   "metadata": {},
   "outputs": [],
   "source": [
    "cf  = df[\"category\"].value_counts()"
   ]
  },
  {
   "cell_type": "code",
   "execution_count": 219,
   "id": "f496985e",
   "metadata": {},
   "outputs": [],
   "source": [
    "import matplotlib.pyplot as plt\n",
    "import seaborn as sns"
   ]
  },
  {
   "cell_type": "code",
   "execution_count": 220,
   "id": "6b69c9fd",
   "metadata": {
    "scrolled": false
   },
   "outputs": [
    {
     "data": {
      "text/plain": [
       "<function matplotlib.pyplot.show(close=None, block=None)>"
      ]
     },
     "execution_count": 220,
     "metadata": {},
     "output_type": "execute_result"
    },
    {
     "data": {
      "image/png": "[encoded data removed]",
      "text/plain": [
       "<Figure size 576x576 with 1 Axes>"
      ]
     },
     "metadata": {},
     "output_type": "display_data"
    }
   ],
   "source": [
    "plt.figure(figsize=(8,8))\n",
    "plt.pie(cf)\n",
    "\n",
    "plt.legend([\"sport\",\"business\", \"politics\", \"tech\",\"entertainment\"])\n",
    "plt.show"
   ]
  },
  {
   "cell_type": "code",
   "execution_count": 221,
   "id": "937d7e70",
   "metadata": {},
   "outputs": [
    {
     "data": {
      "text/plain": [
       "sport            511\n",
       "business         510\n",
       "politics         417\n",
       "tech             401\n",
       "entertainment    386\n",
       "Name: category, dtype: int64"
      ]
     },
     "execution_count": 221,
     "metadata": {},
     "output_type": "execute_result"
    }
   ],
   "source": [
    "cf"
   ]
  },
  {
   "cell_type": "code",
   "execution_count": 222,
   "id": "58fc4cf6",
   "metadata": {},
   "outputs": [
    {
     "data": {
      "text/plain": [
       "0       Ad sales boost Time Warner profit\n",
       "1        Dollar gains on Greenspan speech\n",
       "2       Yukos unit buyer faces loan claim\n",
       "3       High fuel prices hit BA's profits\n",
       "4       Pernod takeover talk lifts Domecq\n",
       "                      ...                \n",
       "2220     BT program to beat dialler scams\n",
       "2221      Spam e-mails tempt net shoppers\n",
       "2222              Be careful how you code\n",
       "2223      US cyber security chief resigns\n",
       "2224     Losing yourself in online gaming\n",
       "Name: title, Length: 2225, dtype: object"
      ]
     },
     "execution_count": 222,
     "metadata": {},
     "output_type": "execute_result"
    }
   ],
   "source": [
    "x = df[\"title\"]\n",
    "x"
   ]
  },
  {
   "cell_type": "code",
   "execution_count": 223,
   "id": "9f305f81",
   "metadata": {},
   "outputs": [
    {
     "data": {
      "text/plain": [
       "(2225,)"
      ]
     },
     "execution_count": 223,
     "metadata": {},
     "output_type": "execute_result"
    }
   ],
   "source": [
    "x.shape"
   ]
  },
  {
   "cell_type": "code",
   "execution_count": 224,
   "id": "5c83830a",
   "metadata": {},
   "outputs": [
    {
     "data": {
      "text/plain": [
       "0       business\n",
       "1       business\n",
       "2       business\n",
       "3       business\n",
       "4       business\n",
       "          ...   \n",
       "2220        tech\n",
       "2221        tech\n",
       "2222        tech\n",
       "2223        tech\n",
       "2224        tech\n",
       "Name: category, Length: 2225, dtype: object"
      ]
     },
     "execution_count": 224,
     "metadata": {},
     "output_type": "execute_result"
    }
   ],
   "source": [
    "y = df[\"category\"]\n",
    "y"
   ]
  },
  {
   "cell_type": "code",
   "execution_count": 225,
   "id": "bb65d9b7",
   "metadata": {},
   "outputs": [
    {
     "data": {
      "text/plain": [
       "(2225,)"
      ]
     },
     "execution_count": 225,
     "metadata": {},
     "output_type": "execute_result"
    }
   ],
   "source": [
    "y.shape"
   ]
  },
  {
   "cell_type": "code",
   "execution_count": 226,
   "id": "4713ae0e",
   "metadata": {},
   "outputs": [],
   "source": [
    "cv = CountVectorizer()"
   ]
  },
  {
   "cell_type": "code",
   "execution_count": 227,
   "id": "bd9c34a8",
   "metadata": {},
   "outputs": [],
   "source": [
    "X_data = cv.fit_transform(x)"
   ]
  },
  {
   "cell_type": "code",
   "execution_count": 228,
   "id": "2834e35e",
   "metadata": {},
   "outputs": [
    {
     "name": "stdout",
     "output_type": "stream",
     "text": [
      "  (0, 116)\t1\n",
      "  (0, 2893)\t1\n",
      "  (0, 453)\t1\n",
      "  (0, 3400)\t1\n",
      "  (0, 3620)\t1\n",
      "  (0, 2582)\t1\n",
      "  (1, 1033)\t1\n",
      "  (1, 1425)\t1\n",
      "  (1, 2331)\t1\n",
      "  (1, 1528)\t1\n",
      "  (1, 3145)\t1\n",
      "  (2, 3749)\t1\n",
      "  (2, 3523)\t1\n",
      "  (2, 540)\t1\n",
      "  (2, 1238)\t1\n",
      "  (2, 2010)\t1\n",
      "  (2, 680)\t1\n",
      "  (3, 1635)\t1\n",
      "  (3, 1406)\t1\n",
      "  (3, 2561)\t1\n",
      "  (3, 1646)\t1\n",
      "  (3, 297)\t1\n",
      "  (3, 2584)\t1\n",
      "  (4, 2441)\t1\n",
      "  (4, 3320)\t1\n",
      "  :\t:\n",
      "  (2220, 514)\t1\n",
      "  (2220, 348)\t1\n",
      "  (2220, 2917)\t1\n",
      "  (2220, 2585)\t1\n",
      "  (2220, 981)\t1\n",
      "  (2221, 3015)\t1\n",
      "  (2221, 2266)\t1\n",
      "  (2221, 2053)\t1\n",
      "  (2221, 3133)\t1\n",
      "  (2221, 3358)\t1\n",
      "  (2222, 3742)\t1\n",
      "  (2222, 346)\t1\n",
      "  (2222, 715)\t1\n",
      "  (2222, 1693)\t1\n",
      "  (2222, 590)\t1\n",
      "  (2223, 3543)\t1\n",
      "  (2223, 656)\t1\n",
      "  (2223, 2764)\t1\n",
      "  (2223, 2958)\t1\n",
      "  (2223, 868)\t1\n",
      "  (2224, 1732)\t1\n",
      "  (2224, 2334)\t1\n",
      "  (2224, 1436)\t1\n",
      "  (2224, 2026)\t1\n",
      "  (2224, 3746)\t1\n"
     ]
    }
   ],
   "source": [
    "print(X_data)"
   ]
  },
  {
   "cell_type": "code",
   "execution_count": 229,
   "id": "d8b822f7",
   "metadata": {},
   "outputs": [],
   "source": [
    "x_arr = np.array(df[\"title\"])\n",
    "y_arr = np.array(df[\"category\"])"
   ]
  },
  {
   "cell_type": "code",
   "execution_count": 230,
   "id": "2f889b16",
   "metadata": {},
   "outputs": [
    {
     "data": {
      "text/plain": [
       "array(['Ad sales boost Time Warner profit',\n",
       "       'Dollar gains on Greenspan speech',\n",
       "       'Yukos unit buyer faces loan claim', ...,\n",
       "       'Be careful how you code', 'US cyber security chief resigns',\n",
       "       'Losing yourself in online gaming'], dtype=object)"
      ]
     },
     "execution_count": 230,
     "metadata": {},
     "output_type": "execute_result"
    }
   ],
   "source": [
    "x_arr"
   ]
  },
  {
   "cell_type": "code",
   "execution_count": 231,
   "id": "2bb5a201",
   "metadata": {},
   "outputs": [
    {
     "data": {
      "text/plain": [
       "array(['business', 'business', 'business', ..., 'tech', 'tech', 'tech'],\n",
       "      dtype=object)"
      ]
     },
     "execution_count": 231,
     "metadata": {},
     "output_type": "execute_result"
    }
   ],
   "source": [
    "y_arr"
   ]
  },
  {
   "cell_type": "code",
   "execution_count": 232,
   "id": "e1b024c8",
   "metadata": {},
   "outputs": [],
   "source": [
    "X_arr_data = cv.fit_transform(x_arr)"
   ]
  },
  {
   "cell_type": "code",
   "execution_count": 233,
   "id": "41223819",
   "metadata": {},
   "outputs": [
    {
     "name": "stdout",
     "output_type": "stream",
     "text": [
      "  (0, 116)\t1\n",
      "  (0, 2893)\t1\n",
      "  (0, 453)\t1\n",
      "  (0, 3400)\t1\n",
      "  (0, 3620)\t1\n",
      "  (0, 2582)\t1\n",
      "  (1, 1033)\t1\n",
      "  (1, 1425)\t1\n",
      "  (1, 2331)\t1\n",
      "  (1, 1528)\t1\n",
      "  (1, 3145)\t1\n",
      "  (2, 3749)\t1\n",
      "  (2, 3523)\t1\n",
      "  (2, 540)\t1\n",
      "  (2, 1238)\t1\n",
      "  (2, 2010)\t1\n",
      "  (2, 680)\t1\n",
      "  (3, 1635)\t1\n",
      "  (3, 1406)\t1\n",
      "  (3, 2561)\t1\n",
      "  (3, 1646)\t1\n",
      "  (3, 297)\t1\n",
      "  (3, 2584)\t1\n",
      "  (4, 2441)\t1\n",
      "  (4, 3320)\t1\n",
      "  :\t:\n",
      "  (2220, 514)\t1\n",
      "  (2220, 348)\t1\n",
      "  (2220, 2917)\t1\n",
      "  (2220, 2585)\t1\n",
      "  (2220, 981)\t1\n",
      "  (2221, 3015)\t1\n",
      "  (2221, 2266)\t1\n",
      "  (2221, 2053)\t1\n",
      "  (2221, 3133)\t1\n",
      "  (2221, 3358)\t1\n",
      "  (2222, 3742)\t1\n",
      "  (2222, 346)\t1\n",
      "  (2222, 715)\t1\n",
      "  (2222, 1693)\t1\n",
      "  (2222, 590)\t1\n",
      "  (2223, 3543)\t1\n",
      "  (2223, 656)\t1\n",
      "  (2223, 2764)\t1\n",
      "  (2223, 2958)\t1\n",
      "  (2223, 868)\t1\n",
      "  (2224, 1732)\t1\n",
      "  (2224, 2334)\t1\n",
      "  (2224, 1436)\t1\n",
      "  (2224, 2026)\t1\n",
      "  (2224, 3746)\t1\n"
     ]
    }
   ],
   "source": [
    "print(X_arr_data)"
   ]
  },
  {
   "cell_type": "code",
   "execution_count": 234,
   "id": "46bf255d",
   "metadata": {},
   "outputs": [
    {
     "data": {
      "text/plain": [
       "0.7640449438202247"
      ]
     },
     "execution_count": 234,
     "metadata": {},
     "output_type": "execute_result"
    }
   ],
   "source": [
    "BNB_arr = BernoulliNB()\n",
    "BNB_arr.fit(x_arr_train,y_arr_train)\n",
    "y_arr_pred= BNB_arr.predict(x_arr_test)\n",
    "BNB_arr.score(x_arr_test, y_arr_test)"
   ]
  },
  {
   "cell_type": "code",
   "execution_count": 235,
   "id": "ea5ab2fc",
   "metadata": {},
   "outputs": [
    {
     "data": {
      "text/plain": [
       "0.6853932584269663"
      ]
     },
     "execution_count": 235,
     "metadata": {},
     "output_type": "execute_result"
    }
   ],
   "source": [
    "RFC_arr = RandomForestClassifier()\n",
    "RFC_arr.fit(x_arr_train,y_arr_train)\n",
    "y_arr_pred= RFC_arr.predict(x_arr_test)\n",
    "RFC_arr.score(x_arr_test, y_arr_test)"
   ]
  },
  {
   "cell_type": "code",
   "execution_count": 236,
   "id": "ba6ddd55",
   "metadata": {},
   "outputs": [
    {
     "data": {
      "text/plain": [
       "0.6966292134831461"
      ]
     },
     "execution_count": 236,
     "metadata": {},
     "output_type": "execute_result"
    }
   ],
   "source": [
    "RFC_arr = RandomForestClassifier(n_estimators=200, criterion='entropy')\n",
    "RFC_arr.fit(x_arr_train,y_arr_train)\n",
    "y_arr_pred= RFC_arr.predict(x_arr_test)\n",
    "RFC_arr.score(x_arr_test, y_arr_test)"
   ]
  },
  {
   "cell_type": "code",
   "execution_count": 237,
   "id": "0f8b0886",
   "metadata": {},
   "outputs": [
    {
     "data": {
      "text/plain": [
       "0.7752808988764045"
      ]
     },
     "execution_count": 237,
     "metadata": {},
     "output_type": "execute_result"
    }
   ],
   "source": [
    "SVC_arr = SVC()\n",
    "SVC_arr.fit(x_arr_train,y_arr_train)\n",
    "y_arr_pred= SVC_arr.predict(x_arr_test)\n",
    "SVC_arr.score(x_arr_test, y_arr_test)"
   ]
  },
  {
   "cell_type": "code",
   "execution_count": 238,
   "id": "ee4823e4",
   "metadata": {},
   "outputs": [
    {
     "data": {
      "text/plain": [
       "0.802247191011236"
      ]
     },
     "execution_count": 238,
     "metadata": {},
     "output_type": "execute_result"
    }
   ],
   "source": [
    "SVC_arr = SVC(C=1.0,kernel = 'linear', gamma='auto')\n",
    "SVC_arr.fit(x_arr_train,y_arr_train)\n",
    "y_arr_pred= SVC_arr.predict(x_arr_test)\n",
    "SVC_arr.score(x_arr_test, y_arr_test)"
   ]
  },
  {
   "cell_type": "code",
   "execution_count": 239,
   "id": "159ec5e3",
   "metadata": {},
   "outputs": [
    {
     "data": {
      "text/plain": [
       "0.6853932584269663"
      ]
     },
     "execution_count": 239,
     "metadata": {},
     "output_type": "execute_result"
    }
   ],
   "source": [
    "DTC_arr = DecisionTreeClassifier()\n",
    "DTC_arr.fit(x_arr_train,y_arr_train)\n",
    "y_arr_pred= DTC_arr.predict(x_arr_test)\n",
    "DTC_arr.score(x_arr_test, y_arr_test)"
   ]
  },
  {
   "cell_type": "code",
   "execution_count": 240,
   "id": "045f9c03",
   "metadata": {},
   "outputs": [
    {
     "data": {
      "text/plain": [
       "0.6696629213483146"
      ]
     },
     "execution_count": 240,
     "metadata": {},
     "output_type": "execute_result"
    }
   ],
   "source": [
    "DTC_arr = DecisionTreeClassifier(criterion = \"entropy\")\n",
    "DTC_arr.fit(x_arr_train,y_arr_train)\n",
    "y_arr_pred= DTC_arr.predict(x_arr_test)\n",
    "DTC_arr.score(x_arr_test, y_arr_test)"
   ]
  },
  {
   "cell_type": "code",
   "execution_count": 241,
   "id": "4f1b6a3e",
   "metadata": {},
   "outputs": [
    {
     "name": "stderr",
     "output_type": "stream",
     "text": [
      "C:\\Users\\Om\\anaconda3\\envs\\DS-ML-Projects\\lib\\site-packages\\xgboost\\sklearn.py:1224: UserWarning: The use of label encoder in XGBClassifier is deprecated and will be removed in a future release. To remove this warning, do the following: 1) Pass option use_label_encoder=False when constructing XGBClassifier object; and 2) Encode your labels (y) as integers starting with 0, i.e. 0, 1, 2, ..., [num_class - 1].\n",
      "  warnings.warn(label_encoder_deprecation_msg, UserWarning)\n"
     ]
    },
    {
     "name": "stdout",
     "output_type": "stream",
     "text": [
      "[04:57:58] WARNING: D:\\bld\\xgboost-split_1637426510059\\work\\src\\learner.cc:1115: Starting in XGBoost 1.3.0, the default evaluation metric used with the objective 'multi:softprob' was changed from 'merror' to 'mlogloss'. Explicitly set eval_metric if you'd like to restore the old behavior.\n"
     ]
    },
    {
     "data": {
      "text/plain": [
       "0.7078651685393258"
      ]
     },
     "execution_count": 241,
     "metadata": {},
     "output_type": "execute_result"
    }
   ],
   "source": [
    "XGBC_arr = xgb.XGBClassifier()\n",
    "XGBC_arr.fit(x_arr_train,y_arr_train)\n",
    "y_arr_pred= XGBC_arr.predict(x_arr_test)\n",
    "XGBC_arr.score(x_arr_test, y_arr_test)"
   ]
  },
  {
   "cell_type": "code",
   "execution_count": 242,
   "id": "91f4c02f",
   "metadata": {
    "scrolled": true
   },
   "outputs": [
    {
     "name": "stderr",
     "output_type": "stream",
     "text": [
      "C:\\Users\\Om\\anaconda3\\envs\\DS-ML-Projects\\lib\\site-packages\\xgboost\\sklearn.py:1224: UserWarning: The use of label encoder in XGBClassifier is deprecated and will be removed in a future release. To remove this warning, do the following: 1) Pass option use_label_encoder=False when constructing XGBClassifier object; and 2) Encode your labels (y) as integers starting with 0, i.e. 0, 1, 2, ..., [num_class - 1].\n",
      "  warnings.warn(label_encoder_deprecation_msg, UserWarning)\n"
     ]
    },
    {
     "name": "stdout",
     "output_type": "stream",
     "text": [
      "[04:57:59] WARNING: D:\\bld\\xgboost-split_1637426510059\\work\\src\\learner.cc:1115: Starting in XGBoost 1.3.0, the default evaluation metric used with the objective 'multi:softprob' was changed from 'merror' to 'mlogloss'. Explicitly set eval_metric if you'd like to restore the old behavior.\n"
     ]
    },
    {
     "data": {
      "text/plain": [
       "0.7101123595505618"
      ]
     },
     "execution_count": 242,
     "metadata": {},
     "output_type": "execute_result"
    }
   ],
   "source": [
    "XGBC_arr = xgb.XGBClassifier(n_estimators = 100, gamma = 0.2)\n",
    "XGBC_arr.fit(x_arr_train,y_arr_train)\n",
    "y_arr_pred= XGBC_arr.predict(x_arr_test)\n",
    "XGBC_arr.score(x_arr_test, y_arr_test)\n"
   ]
  },
  {
   "cell_type": "code",
   "execution_count": 243,
   "id": "ce55b9ca",
   "metadata": {},
   "outputs": [
    {
     "data": {
      "text/plain": [
       "0.5078651685393258"
      ]
     },
     "execution_count": 243,
     "metadata": {},
     "output_type": "execute_result"
    }
   ],
   "source": [
    "ABC_arr = AdaBoostClassifier()\n",
    "ABC_arr.fit(x_arr_train,y_arr_train)\n",
    "y_arr_pred= ABC_arr.predict(x_arr_test)\n",
    "ABC_arr.score(x_arr_test, y_arr_test)"
   ]
  },
  {
   "cell_type": "code",
   "execution_count": 244,
   "id": "257b2719",
   "metadata": {},
   "outputs": [
    {
     "data": {
      "text/plain": [
       "0.6359550561797753"
      ]
     },
     "execution_count": 244,
     "metadata": {},
     "output_type": "execute_result"
    }
   ],
   "source": [
    "ABC_arr = AdaBoostClassifier( n_estimators=150, learning_rate=1.0, algorithm='SAMME.R')\n",
    "ABC_arr.fit(x_arr_train,y_arr_train)\n",
    "y_arr_pred= ABC_arr.predict(x_arr_test)\n",
    "ABC_arr.score(x_arr_test, y_arr_test)"
   ]
  },
  {
   "cell_type": "code",
   "execution_count": 245,
   "id": "7494ba67",
   "metadata": {},
   "outputs": [
    {
     "data": {
      "text/plain": [
       "0.8044943820224719"
      ]
     },
     "execution_count": 245,
     "metadata": {},
     "output_type": "execute_result"
    }
   ],
   "source": [
    "MNB.score(x_test, y_test)"
   ]
  },
  {
   "cell_type": "code",
   "execution_count": 246,
   "id": "afd54198",
   "metadata": {},
   "outputs": [],
   "source": [
    "x_arr_train, x_arr_test, y_arr_train, y_arr_test = train_test_split(X_arr_data, y_arr, test_size=0.2, random_state=51)"
   ]
  },
  {
   "cell_type": "code",
   "execution_count": 247,
   "id": "e51c105f",
   "metadata": {},
   "outputs": [
    {
     "name": "stdout",
     "output_type": "stream",
     "text": [
      "Shape of x_arr_train>>  (1780, 3754)\n",
      "Shape of y_arr_train>>  (1780,)\n",
      "Shape of x_arr_test>>  (445, 3754)\n",
      "Shape of y_arr_test>>  (445,)\n"
     ]
    }
   ],
   "source": [
    "print(\"Shape of x_arr_train>> \",x_arr_train.shape)\n",
    "print(\"Shape of y_arr_train>> \",y_arr_train.shape)\n",
    "print(\"Shape of x_arr_test>> \",x_arr_test.shape)\n",
    "print(\"Shape of y_arr_test>> \",y_arr_test.shape)"
   ]
  },
  {
   "cell_type": "code",
   "execution_count": 248,
   "id": "2bb3f4a6",
   "metadata": {},
   "outputs": [],
   "source": [
    "MNB_arr = MultinomialNB()"
   ]
  },
  {
   "cell_type": "code",
   "execution_count": 249,
   "id": "e187740d",
   "metadata": {},
   "outputs": [
    {
     "data": {
      "text/plain": [
       "MultinomialNB()"
      ]
     },
     "execution_count": 249,
     "metadata": {},
     "output_type": "execute_result"
    }
   ],
   "source": [
    "MNB_arr.fit(x_arr_train,y_arr_train)"
   ]
  },
  {
   "cell_type": "code",
   "execution_count": 250,
   "id": "8479ff05",
   "metadata": {},
   "outputs": [],
   "source": [
    "y_arr_pred= MNB_arr.predict(x_arr_test)"
   ]
  },
  {
   "cell_type": "code",
   "execution_count": 251,
   "id": "af72931b",
   "metadata": {},
   "outputs": [],
   "source": [
    "cm_arr = confusion_matrix(y_arr_test, y_arr_pred, labels=MNB_arr.classes_)\n",
    "disp_arr = ConfusionMatrixDisplay(confusion_matrix=cm_arr, display_labels=MNB_arr.classes_)"
   ]
  },
  {
   "cell_type": "code",
   "execution_count": 252,
   "id": "748d67d5",
   "metadata": {},
   "outputs": [
    {
     "data": {
      "image/png": "[encoded data removed]",
      "text/plain": [
       "<Figure size 432x288 with 2 Axes>"
      ]
     },
     "metadata": {
      "needs_background": "light"
     },
     "output_type": "display_data"
    },
    {
     "data": {
      "text/plain": [
       "<Figure size 720x1440 with 0 Axes>"
      ]
     },
     "metadata": {},
     "output_type": "display_data"
    }
   ],
   "source": [
    "disp_arr.plot(xticks_rotation='vertical')\n",
    "plt.figure(figsize=(10,20))\n",
    "plt.show()"
   ]
  },
  {
   "cell_type": "code",
   "execution_count": 253,
   "id": "f6e86469",
   "metadata": {},
   "outputs": [
    {
     "data": {
      "text/plain": [
       "0.8044943820224719"
      ]
     },
     "execution_count": 253,
     "metadata": {},
     "output_type": "execute_result"
    }
   ],
   "source": [
    "MNB_arr.score(x_arr_test, y_arr_test)"
   ]
  },
  {
   "cell_type": "code",
   "execution_count": 254,
   "id": "36e79c1f",
   "metadata": {},
   "outputs": [
    {
     "data": {
      "image/png": "[encoded data removed]",
      "text/plain": [
       "<Figure size 432x288 with 2 Axes>"
      ]
     },
     "metadata": {
      "needs_background": "light"
     },
     "output_type": "display_data"
    },
    {
     "data": {
      "text/plain": [
       "<Figure size 720x1440 with 0 Axes>"
      ]
     },
     "metadata": {},
     "output_type": "display_data"
    }
   ],
   "source": [
    "MNB_arr = MultinomialNB(alpha = 5.0)\n",
    "MNB_arr.fit(x_arr_train,y_arr_train)\n",
    "y_arr_pred= MNB_arr.predict(x_arr_test)\n",
    "cm_arr = confusion_matrix(y_arr_test, y_arr_pred, labels=MNB_arr.classes_)\n",
    "disp_arr = ConfusionMatrixDisplay(confusion_matrix=cm_arr, display_labels=MNB_arr.classes_)\n",
    "disp_arr.plot(xticks_rotation='vertical')\n",
    "plt.figure(figsize=(10,20))\n",
    "plt.show()"
   ]
  },
  {
   "cell_type": "code",
   "execution_count": 255,
   "id": "46a01899",
   "metadata": {},
   "outputs": [
    {
     "data": {
      "text/plain": [
       "0.7887640449438202"
      ]
     },
     "execution_count": 255,
     "metadata": {},
     "output_type": "execute_result"
    }
   ],
   "source": [
    "MNB_arr.score(x_arr_test, y_arr_test)"
   ]
  },
  {
   "cell_type": "code",
   "execution_count": 256,
   "id": "9232edfc",
   "metadata": {},
   "outputs": [],
   "source": [
    "x_train, x_test, y_train, y_test = train_test_split(X_data, y, test_size=0.2, random_state=51)"
   ]
  },
  {
   "cell_type": "code",
   "execution_count": 257,
   "id": "847a53dc",
   "metadata": {},
   "outputs": [
    {
     "name": "stdout",
     "output_type": "stream",
     "text": [
      "  (0, 3674)\t1\n",
      "  (0, 341)\t1\n",
      "  (0, 347)\t1\n",
      "  (0, 470)\t1\n",
      "  (0, 2894)\t1\n",
      "  (1, 262)\t1\n",
      "  (1, 2928)\t1\n",
      "  (1, 3051)\t1\n",
      "  (1, 500)\t1\n",
      "  (1, 3461)\t1\n",
      "  (2, 3543)\t1\n",
      "  (2, 3407)\t1\n",
      "  (2, 2336)\t1\n",
      "  (2, 171)\t1\n",
      "  (2, 3274)\t1\n",
      "  (2, 466)\t1\n",
      "  (2, 1876)\t1\n",
      "  (3, 2172)\t1\n",
      "  (3, 2319)\t1\n",
      "  (3, 1435)\t1\n",
      "  (3, 139)\t1\n",
      "  (3, 725)\t1\n",
      "  (4, 1361)\t1\n",
      "  (4, 2985)\t1\n",
      "  (4, 1464)\t1\n",
      "  :\t:\n",
      "  (1775, 3386)\t1\n",
      "  (1775, 2388)\t1\n",
      "  (1775, 576)\t1\n",
      "  (1775, 2094)\t1\n",
      "  (1776, 2820)\t1\n",
      "  (1776, 1621)\t1\n",
      "  (1776, 2371)\t1\n",
      "  (1776, 2869)\t1\n",
      "  (1777, 3366)\t1\n",
      "  (1777, 1084)\t1\n",
      "  (1777, 1899)\t1\n",
      "  (1777, 1244)\t1\n",
      "  (1778, 1741)\t1\n",
      "  (1778, 3536)\t1\n",
      "  (1778, 1301)\t1\n",
      "  (1778, 2736)\t1\n",
      "  (1778, 1260)\t1\n",
      "  (1778, 1615)\t1\n",
      "  (1779, 3407)\t1\n",
      "  (1779, 1059)\t1\n",
      "  (1779, 1091)\t1\n",
      "  (1779, 1631)\t1\n",
      "  (1779, 3345)\t1\n",
      "  (1779, 1903)\t1\n",
      "  (1779, 3029)\t1\n"
     ]
    }
   ],
   "source": [
    "print(x_train)"
   ]
  },
  {
   "cell_type": "code",
   "execution_count": 258,
   "id": "153ffbd6",
   "metadata": {},
   "outputs": [
    {
     "data": {
      "text/plain": [
       "656     entertainment\n",
       "762     entertainment\n",
       "684     entertainment\n",
       "2134             tech\n",
       "2128             tech\n",
       "            ...      \n",
       "1460            sport\n",
       "1733            sport\n",
       "1760            sport\n",
       "485          business\n",
       "2105             tech\n",
       "Name: category, Length: 1780, dtype: object"
      ]
     },
     "execution_count": 258,
     "metadata": {},
     "output_type": "execute_result"
    }
   ],
   "source": [
    "y_train"
   ]
  },
  {
   "cell_type": "code",
   "execution_count": 259,
   "id": "14341a17",
   "metadata": {},
   "outputs": [
    {
     "name": "stdout",
     "output_type": "stream",
     "text": [
      "Shape of x_train>>  (1780, 3754)\n",
      "Shape of y_train>>  (1780,)\n",
      "Shape of x_test>>  (445, 3754)\n",
      "Shape of y_test>>  (445,)\n"
     ]
    }
   ],
   "source": [
    "print(\"Shape of x_train>> \",x_train.shape)\n",
    "print(\"Shape of y_train>> \",y_train.shape)\n",
    "print(\"Shape of x_test>> \",x_test.shape)\n",
    "print(\"Shape of y_test>> \",y_test.shape)"
   ]
  },
  {
   "cell_type": "code",
   "execution_count": 260,
   "id": "b60fcd82",
   "metadata": {},
   "outputs": [],
   "source": [
    "MNB = MultinomialNB()"
   ]
  },
  {
   "cell_type": "code",
   "execution_count": 261,
   "id": "5677bc13",
   "metadata": {},
   "outputs": [
    {
     "data": {
      "text/plain": [
       "MultinomialNB()"
      ]
     },
     "execution_count": 261,
     "metadata": {},
     "output_type": "execute_result"
    }
   ],
   "source": [
    "MNB.fit(x_train,y_train)"
   ]
  },
  {
   "cell_type": "code",
   "execution_count": 262,
   "id": "720f7c8f",
   "metadata": {},
   "outputs": [],
   "source": [
    "y_pred= MNB.predict(x_test)"
   ]
  },
  {
   "cell_type": "code",
   "execution_count": 263,
   "id": "69c72f79",
   "metadata": {},
   "outputs": [
    {
     "data": {
      "text/plain": [
       "array(['sport', 'sport', 'business', 'tech', 'tech', 'tech', 'sport',\n",
       "       'entertainment', 'tech', 'business', 'business', 'business',\n",
       "       'business', 'sport', 'entertainment', 'sport', 'entertainment',\n",
       "       'politics', 'politics', 'politics', 'business', 'politics',\n",
       "       'entertainment', 'sport', 'business', 'business', 'sport', 'sport',\n",
       "       'politics', 'politics', 'business', 'politics', 'business', 'tech',\n",
       "       'sport', 'business', 'entertainment', 'business', 'sport', 'tech',\n",
       "       'entertainment', 'sport', 'business', 'tech', 'entertainment',\n",
       "       'business', 'sport', 'entertainment', 'business', 'business',\n",
       "       'business', 'sport', 'sport', 'politics', 'tech', 'entertainment',\n",
       "       'politics', 'sport', 'politics', 'tech', 'politics', 'business',\n",
       "       'politics', 'politics', 'sport', 'business', 'business', 'sport',\n",
       "       'business', 'sport', 'politics', 'entertainment', 'tech',\n",
       "       'entertainment', 'sport', 'politics', 'politics', 'business',\n",
       "       'tech', 'sport', 'sport', 'politics', 'sport', 'politics', 'sport',\n",
       "       'tech', 'business', 'sport', 'politics', 'business', 'tech',\n",
       "       'entertainment', 'politics', 'politics', 'politics', 'politics',\n",
       "       'politics', 'sport', 'sport', 'sport', 'politics', 'entertainment',\n",
       "       'tech', 'tech', 'entertainment', 'business', 'business',\n",
       "       'entertainment', 'business', 'tech', 'politics', 'tech',\n",
       "       'entertainment', 'business', 'sport', 'business', 'entertainment',\n",
       "       'politics', 'entertainment', 'business', 'tech', 'business',\n",
       "       'sport', 'politics', 'business', 'entertainment', 'business',\n",
       "       'sport', 'business', 'sport', 'politics', 'sport', 'sport', 'tech',\n",
       "       'entertainment', 'politics', 'politics', 'sport', 'business',\n",
       "       'tech', 'politics', 'entertainment', 'business', 'business',\n",
       "       'tech', 'entertainment', 'business', 'sport', 'sport', 'tech',\n",
       "       'tech', 'sport', 'business', 'politics', 'business', 'tech',\n",
       "       'politics', 'tech', 'business', 'tech', 'politics', 'business',\n",
       "       'tech', 'sport', 'tech', 'politics', 'business', 'politics',\n",
       "       'politics', 'tech', 'entertainment', 'politics', 'business',\n",
       "       'business', 'entertainment', 'entertainment', 'tech', 'tech',\n",
       "       'politics', 'tech', 'tech', 'tech', 'business', 'tech', 'politics',\n",
       "       'politics', 'business', 'sport', 'entertainment', 'sport',\n",
       "       'politics', 'sport', 'entertainment', 'business', 'sport', 'sport',\n",
       "       'business', 'business', 'entertainment', 'politics', 'tech',\n",
       "       'business', 'business', 'politics', 'business', 'entertainment',\n",
       "       'tech', 'sport', 'politics', 'tech', 'entertainment', 'politics',\n",
       "       'sport', 'entertainment', 'entertainment', 'business', 'politics',\n",
       "       'sport', 'business', 'politics', 'tech', 'sport', 'business',\n",
       "       'politics', 'politics', 'sport', 'sport', 'entertainment', 'tech',\n",
       "       'business', 'sport', 'politics', 'entertainment', 'politics',\n",
       "       'business', 'politics', 'entertainment', 'sport', 'business',\n",
       "       'sport', 'business', 'sport', 'politics', 'business', 'sport',\n",
       "       'sport', 'sport', 'tech', 'sport', 'tech', 'entertainment',\n",
       "       'business', 'entertainment', 'business', 'politics', 'sport',\n",
       "       'politics', 'sport', 'business', 'politics', 'tech', 'sport',\n",
       "       'business', 'politics', 'business', 'tech', 'tech', 'tech', 'tech',\n",
       "       'politics', 'sport', 'entertainment', 'politics', 'sport', 'tech',\n",
       "       'politics', 'sport', 'business', 'sport', 'politics', 'business',\n",
       "       'politics', 'business', 'politics', 'entertainment', 'business',\n",
       "       'politics', 'tech', 'politics', 'tech', 'politics', 'business',\n",
       "       'sport', 'sport', 'politics', 'entertainment', 'sport', 'tech',\n",
       "       'politics', 'sport', 'business', 'sport', 'sport', 'sport',\n",
       "       'business', 'politics', 'business', 'politics', 'entertainment',\n",
       "       'tech', 'entertainment', 'business', 'business', 'tech', 'sport',\n",
       "       'business', 'tech', 'sport', 'tech', 'sport', 'business', 'sport',\n",
       "       'sport', 'business', 'entertainment', 'business', 'business',\n",
       "       'politics', 'tech', 'sport', 'politics', 'tech', 'tech', 'sport',\n",
       "       'tech', 'tech', 'business', 'sport', 'politics', 'sport', 'tech',\n",
       "       'tech', 'business', 'sport', 'tech', 'tech', 'tech', 'business',\n",
       "       'politics', 'entertainment', 'tech', 'business', 'business',\n",
       "       'tech', 'politics', 'business', 'entertainment', 'politics',\n",
       "       'tech', 'politics', 'business', 'sport', 'business', 'sport',\n",
       "       'entertainment', 'politics', 'business', 'politics', 'sport',\n",
       "       'tech', 'entertainment', 'politics', 'sport', 'tech',\n",
       "       'entertainment', 'sport', 'entertainment', 'business', 'business',\n",
       "       'tech', 'sport', 'business', 'sport', 'business', 'tech', 'tech',\n",
       "       'tech', 'sport', 'tech', 'sport', 'business', 'politics',\n",
       "       'business', 'business', 'politics', 'sport', 'tech', 'sport',\n",
       "       'politics', 'entertainment', 'sport', 'politics', 'politics',\n",
       "       'politics', 'business', 'politics', 'sport', 'politics',\n",
       "       'business', 'sport', 'tech', 'politics', 'politics',\n",
       "       'entertainment', 'sport', 'sport', 'entertainment', 'sport',\n",
       "       'politics', 'business', 'business', 'entertainment', 'tech',\n",
       "       'entertainment', 'entertainment', 'politics', 'business',\n",
       "       'business', 'sport', 'sport', 'entertainment', 'sport',\n",
       "       'entertainment', 'sport', 'sport', 'sport', 'business', 'tech',\n",
       "       'sport', 'tech', 'sport', 'sport', 'tech', 'business', 'politics'],\n",
       "      dtype='<U13')"
      ]
     },
     "execution_count": 263,
     "metadata": {},
     "output_type": "execute_result"
    }
   ],
   "source": [
    "y_pred"
   ]
  },
  {
   "cell_type": "code",
   "execution_count": 264,
   "id": "2f878ab9",
   "metadata": {},
   "outputs": [],
   "source": [
    "from sklearn.metrics import confusion_matrix"
   ]
  },
  {
   "cell_type": "code",
   "execution_count": 265,
   "id": "796bfadf",
   "metadata": {},
   "outputs": [
    {
     "name": "stdout",
     "output_type": "stream",
     "text": [
      "[[92  5  6  2  6]\n",
      " [ 4 86  9  4  2]\n",
      " [ 3  5 72  3  3]\n",
      " [ 2  2  6 66  4]\n",
      " [ 6  7  2  6 42]]\n"
     ]
    }
   ],
   "source": [
    "print(confusion_matrix(y_test, y_pred, labels=[\"sport\",\"business\", \"politics\", \"tech\",\"entertainment\"]))"
   ]
  },
  {
   "cell_type": "code",
   "execution_count": 266,
   "id": "c6fcaad1",
   "metadata": {},
   "outputs": [],
   "source": [
    "from sklearn.metrics import ConfusionMatrixDisplay\n"
   ]
  },
  {
   "cell_type": "code",
   "execution_count": 267,
   "id": "9e073fa4",
   "metadata": {},
   "outputs": [
    {
     "data": {
      "text/plain": [
       "<sklearn.metrics._plot.confusion_matrix.ConfusionMatrixDisplay at 0x2471a90c190>"
      ]
     },
     "execution_count": 267,
     "metadata": {},
     "output_type": "execute_result"
    }
   ],
   "source": [
    "ConfusionMatrixDisplay(confusion_matrix(y_test, y_pred))"
   ]
  },
  {
   "cell_type": "code",
   "execution_count": 268,
   "id": "09e715ea",
   "metadata": {},
   "outputs": [],
   "source": [
    "cm = confusion_matrix(y_test, y_pred, labels=MNB.classes_)\n"
   ]
  },
  {
   "cell_type": "code",
   "execution_count": 269,
   "id": "ff2f3cdb",
   "metadata": {},
   "outputs": [],
   "source": [
    "disp = ConfusionMatrixDisplay(confusion_matrix=cm, display_labels=MNB.classes_)\n"
   ]
  },
  {
   "cell_type": "code",
   "execution_count": 270,
   "id": "df72253d",
   "metadata": {},
   "outputs": [
    {
     "data": {
      "image/png": "[encoded data removed]",
      "text/plain": [
       "<Figure size 432x288 with 2 Axes>"
      ]
     },
     "metadata": {
      "needs_background": "light"
     },
     "output_type": "display_data"
    },
    {
     "data": {
      "text/plain": [
       "<Figure size 720x1440 with 0 Axes>"
      ]
     },
     "metadata": {},
     "output_type": "display_data"
    }
   ],
   "source": [
    "disp.plot(xticks_rotation='vertical')\n",
    "plt.figure(figsize=(10,20))\n",
    "plt.show()"
   ]
  },
  {
   "cell_type": "code",
   "execution_count": 272,
   "id": "e149aab4",
   "metadata": {},
   "outputs": [
    {
     "name": "stdout",
     "output_type": "stream",
     "text": [
      "Enter a Text: Cricket-England's Root has Ashes century in his sights in Melbourne; Golf - Ladies European Tour to have record prize purse in 2022 and more\n",
      "['sport']\n"
     ]
    }
   ],
   "source": [
    "userdata = input(\"Enter a Text: \")\n",
    "inputdata = cv.transform([userdata]).toarray()\n",
    "output = MNB.predict(inputdata)\n",
    "print(output)"
   ]
  },
  {
   "cell_type": "markdown",
   "id": "5610b3ab",
   "metadata": {},
   "source": [
    "# Conclusion: Project Summary:  \n"
   ]
  },
  {
   "cell_type": "markdown",
   "id": "a94b5ea2",
   "metadata": {},
   "source": [
    "# Here we got the magic of automated categorization of News in multiple classes. We just need to select the correct categories to have a look on the favorite classes. Even though New Websites , News Editors or News Publishers can use this automatic machine learning technique to get categorization. Note: Please note, this Machine Learning algorithm is only for Learning Purpose."
   ]
  }
 ],
 "metadata": {
  "kernelspec": {
   "display_name": "Python 3 (ipykernel)",
   "language": "python",
   "name": "python3"
  },
  "language_info": {
   "codemirror_mode": {
    "name": "ipython",
    "version": 3
   },
   "file_extension": ".py",
   "mimetype": "text/x-python",
   "name": "python",
   "nbconvert_exporter": "python",
   "pygments_lexer": "ipython3",
   "version": "3.8.12"
  }
 },
 "nbformat": 4,
 "nbformat_minor": 5
}
